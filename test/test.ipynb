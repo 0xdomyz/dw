{
 "cells": [
  {
   "cell_type": "code",
   "execution_count": 1,
   "id": "6ad0780f",
   "metadata": {},
   "outputs": [],
   "source": [
    "import pandas as pd\n",
    "from dw import pg\n",
    "import logging\n",
    "import random\n",
    "logging.basicConfig(\n",
    "    level = logging.INFO\n",
    "    ,format = \"%(asctime)s [%(levelname)s] %(message)s\")"
   ]
  },
  {
   "cell_type": "code",
   "execution_count": 2,
   "id": "e72b2a0d",
   "metadata": {},
   "outputs": [
    {
     "data": {
      "text/html": [
       "<div>\n",
       "<style scoped>\n",
       "    .dataframe tbody tr th:only-of-type {\n",
       "        vertical-align: middle;\n",
       "    }\n",
       "\n",
       "    .dataframe tbody tr th {\n",
       "        vertical-align: top;\n",
       "    }\n",
       "\n",
       "    .dataframe thead th {\n",
       "        text-align: right;\n",
       "    }\n",
       "</style>\n",
       "<table border=\"1\" class=\"dataframe\">\n",
       "  <thead>\n",
       "    <tr style=\"text-align: right;\">\n",
       "      <th></th>\n",
       "      <th>id</th>\n",
       "      <th>score</th>\n",
       "      <th>amt</th>\n",
       "      <th>cat</th>\n",
       "      <th>time</th>\n",
       "    </tr>\n",
       "  </thead>\n",
       "  <tbody>\n",
       "    <tr>\n",
       "      <th>0</th>\n",
       "      <td>0</td>\n",
       "      <td>0.764839</td>\n",
       "      <td>195</td>\n",
       "      <td>test</td>\n",
       "      <td>2013-03-02</td>\n",
       "    </tr>\n",
       "    <tr>\n",
       "      <th>1</th>\n",
       "      <td>1</td>\n",
       "      <td>0.897606</td>\n",
       "      <td>618</td>\n",
       "      <td>train</td>\n",
       "      <td>2013-01-02</td>\n",
       "    </tr>\n",
       "    <tr>\n",
       "      <th>2</th>\n",
       "      <td>2</td>\n",
       "      <td>0.853854</td>\n",
       "      <td>609</td>\n",
       "      <td>train</td>\n",
       "      <td>2013-02-02</td>\n",
       "    </tr>\n",
       "    <tr>\n",
       "      <th>3</th>\n",
       "      <td>3</td>\n",
       "      <td>0.747254</td>\n",
       "      <td>320</td>\n",
       "      <td>test</td>\n",
       "      <td>2013-01-02</td>\n",
       "    </tr>\n",
       "    <tr>\n",
       "      <th>4</th>\n",
       "      <td>4</td>\n",
       "      <td>0.195149</td>\n",
       "      <td>698</td>\n",
       "      <td>test</td>\n",
       "      <td>2013-03-02</td>\n",
       "    </tr>\n",
       "  </tbody>\n",
       "</table>\n",
       "</div>"
      ],
      "text/plain": [
       "   id     score  amt    cat       time\n",
       "0   0  0.764839  195   test 2013-03-02\n",
       "1   1  0.897606  618  train 2013-01-02\n",
       "2   2  0.853854  609  train 2013-02-02\n",
       "3   3  0.747254  320   test 2013-01-02\n",
       "4   4  0.195149  698   test 2013-03-02"
      ]
     },
     "execution_count": 2,
     "metadata": {},
     "output_type": "execute_result"
    }
   ],
   "source": [
    "n = 10000\n",
    "df = pd.DataFrame(\n",
    "    {\n",
    "        \"id\": range(n)\n",
    "        ,\"score\": [random.random() for i in range(n)]\n",
    "        ,\"amt\": [random.choice(range(1000)) for i in range(n)]\n",
    "        ,\"cat\": [random.choice([\"test\", \"train\"]) for i in range(n)]\n",
    "        ,'time': [\n",
    "                random.choice(\n",
    "                    [pd.Timestamp(i) for i in \n",
    "                        [\"20130102\",\"20130202\",\"20130302\"]]\n",
    "                ) \n",
    "                for i in range(n)]\n",
    "    }\n",
    ")\n",
    "df.head()"
   ]
  },
  {
   "cell_type": "code",
   "execution_count": 3,
   "id": "ae692c7d",
   "metadata": {},
   "outputs": [
    {
     "name": "stderr",
     "output_type": "stream",
     "text": [
      "2022-01-20 23:50:19,697 [INFO] running:\n",
      "drop table test\n",
      "2022-01-20 23:50:19,704 [INFO] done\n",
      "2022-01-20 23:50:19,713 [INFO] running:\n",
      "create table test(\n",
      "    id integer\n",
      "    ,score float8\n",
      "    ,amt integer\n",
      "    ,cat varchar(20)\n",
      "    ,time timestamp\n",
      "    ,constraint df_pk primary key (id)\n",
      ")\n",
      "2022-01-20 23:50:19,764 [INFO] done\n",
      "2022-01-20 23:50:19,861 [INFO] running:\n",
      "insert into test (id,score,amt,cat,time) values (:id,:score,:amt,:cat,:time)\n",
      "2022-01-20 23:50:19,862 [INFO] len(args) = 10000\n",
      "2022-01-20 23:50:21,643 [INFO] done\n"
     ]
    }
   ],
   "source": [
    "pg.drop('test')\n",
    "pg.create(\n",
    "        tbl_nme = 'test'\n",
    "        ,dtypes = {\n",
    "            'id':'integer'\n",
    "            ,'score':'float8'\n",
    "            ,'amt':'integer'\n",
    "            ,'cat':'varchar(20)'\n",
    "            ,'time':'timestamp'\n",
    "            ,'constraint df_pk':\n",
    "                'primary key (id)'\n",
    "        }\n",
    "    )\n",
    "pg.write(df,'test')"
   ]
  },
  {
   "cell_type": "code",
   "execution_count": 6,
   "id": "37302e69",
   "metadata": {},
   "outputs": [
    {
     "name": "stderr",
     "output_type": "stream",
     "text": [
      "2022-01-20 23:52:44,145 [INFO] running:\n",
      "with x as (\n",
      "    select * from test\n",
      "    where score > 0.5\n",
      ")\n",
      "select \n",
      "    time,cat\n",
      "    ,count(1) n\n",
      "    ,avg(score) avgscore,round(sum(amt)/1e3,2) total\n",
      "from x\n",
      "group by time,cat\n",
      "order by n desc\n",
      "2022-01-20 23:52:44,184 [INFO] done\n"
     ]
    },
    {
     "data": {
      "text/html": [
       "<div>\n",
       "<style scoped>\n",
       "    .dataframe tbody tr th:only-of-type {\n",
       "        vertical-align: middle;\n",
       "    }\n",
       "\n",
       "    .dataframe tbody tr th {\n",
       "        vertical-align: top;\n",
       "    }\n",
       "\n",
       "    .dataframe thead tr th {\n",
       "        text-align: left;\n",
       "    }\n",
       "\n",
       "    .dataframe thead tr:last-of-type th {\n",
       "        text-align: right;\n",
       "    }\n",
       "</style>\n",
       "<table border=\"1\" class=\"dataframe\">\n",
       "  <thead>\n",
       "    <tr>\n",
       "      <th></th>\n",
       "      <th colspan=\"2\" halign=\"left\">n</th>\n",
       "      <th colspan=\"2\" halign=\"left\">avgscore</th>\n",
       "      <th colspan=\"2\" halign=\"left\">total</th>\n",
       "    </tr>\n",
       "    <tr>\n",
       "      <th>cat</th>\n",
       "      <th>test</th>\n",
       "      <th>train</th>\n",
       "      <th>test</th>\n",
       "      <th>train</th>\n",
       "      <th>test</th>\n",
       "      <th>train</th>\n",
       "    </tr>\n",
       "    <tr>\n",
       "      <th>time</th>\n",
       "      <th></th>\n",
       "      <th></th>\n",
       "      <th></th>\n",
       "      <th></th>\n",
       "      <th></th>\n",
       "      <th></th>\n",
       "    </tr>\n",
       "  </thead>\n",
       "  <tbody>\n",
       "    <tr>\n",
       "      <th>2013-01-02</th>\n",
       "      <td>855</td>\n",
       "      <td>789</td>\n",
       "      <td>0.748191</td>\n",
       "      <td>0.750798</td>\n",
       "      <td>423.06</td>\n",
       "      <td>393.58</td>\n",
       "    </tr>\n",
       "    <tr>\n",
       "      <th>2013-02-02</th>\n",
       "      <td>828</td>\n",
       "      <td>829</td>\n",
       "      <td>0.747892</td>\n",
       "      <td>0.755623</td>\n",
       "      <td>402.04</td>\n",
       "      <td>415.65</td>\n",
       "    </tr>\n",
       "    <tr>\n",
       "      <th>2013-03-02</th>\n",
       "      <td>839</td>\n",
       "      <td>855</td>\n",
       "      <td>0.751682</td>\n",
       "      <td>0.75397</td>\n",
       "      <td>423.70</td>\n",
       "      <td>419.70</td>\n",
       "    </tr>\n",
       "  </tbody>\n",
       "</table>\n",
       "</div>"
      ],
      "text/plain": [
       "              n        avgscore             total        \n",
       "cat        test train      test     train    test   train\n",
       "time                                                     \n",
       "2013-01-02  855   789  0.748191  0.750798  423.06  393.58\n",
       "2013-02-02  828   829  0.747892  0.755623  402.04  415.65\n",
       "2013-03-02  839   855  0.751682   0.75397  423.70  419.70"
      ]
     },
     "execution_count": 6,
     "metadata": {},
     "output_type": "execute_result"
    }
   ],
   "source": [
    "pg.qry('test').where(\"score > 0.5\") \\\n",
    ".valc('time,cat',\"avg(score) avgscore,round(sum(amt)/1e3,2) total\") \\\n",
    ".pivot('time','cat',['n','avgscore','total'])"
   ]
  },
  {
   "cell_type": "code",
   "execution_count": 7,
   "id": "df80bc40",
   "metadata": {},
   "outputs": [
    {
     "name": "stderr",
     "output_type": "stream",
     "text": [
      "2022-01-20 23:56:29,624 [INFO] running:\n",
      "select * from test limit 2\n",
      "2022-01-20 23:56:29,626 [INFO] done\n",
      "2022-01-20 23:56:29,628 [INFO] running:\n",
      "select * from test where score > :score limit 2\n",
      "2022-01-20 23:56:29,628 [INFO] len(args) = 1\n",
      "2022-01-20 23:56:29,630 [INFO] done\n",
      "2022-01-20 23:56:29,633 [INFO] running:\n",
      "select * from test where score > 0.9 limit 2\n",
      "2022-01-20 23:56:29,634 [INFO] done\n"
     ]
    },
    {
     "data": {
      "text/html": [
       "<div>\n",
       "<style scoped>\n",
       "    .dataframe tbody tr th:only-of-type {\n",
       "        vertical-align: middle;\n",
       "    }\n",
       "\n",
       "    .dataframe tbody tr th {\n",
       "        vertical-align: top;\n",
       "    }\n",
       "\n",
       "    .dataframe thead th {\n",
       "        text-align: right;\n",
       "    }\n",
       "</style>\n",
       "<table border=\"1\" class=\"dataframe\">\n",
       "  <thead>\n",
       "    <tr style=\"text-align: right;\">\n",
       "      <th></th>\n",
       "      <th>id</th>\n",
       "      <th>score</th>\n",
       "      <th>amt</th>\n",
       "      <th>cat</th>\n",
       "      <th>time</th>\n",
       "    </tr>\n",
       "  </thead>\n",
       "  <tbody>\n",
       "    <tr>\n",
       "      <th>0</th>\n",
       "      <td>17</td>\n",
       "      <td>0.931387</td>\n",
       "      <td>573</td>\n",
       "      <td>train</td>\n",
       "      <td>2013-02-02</td>\n",
       "    </tr>\n",
       "    <tr>\n",
       "      <th>1</th>\n",
       "      <td>23</td>\n",
       "      <td>0.927040</td>\n",
       "      <td>309</td>\n",
       "      <td>test</td>\n",
       "      <td>2013-01-02</td>\n",
       "    </tr>\n",
       "  </tbody>\n",
       "</table>\n",
       "</div>"
      ],
      "text/plain": [
       "   id     score  amt    cat       time\n",
       "0  17  0.931387  573  train 2013-02-02\n",
       "1  23  0.927040  309   test 2013-01-02"
      ]
     },
     "execution_count": 7,
     "metadata": {},
     "output_type": "execute_result"
    }
   ],
   "source": [
    "pg.run('select * from test limit 2')\n",
    "pg.run('select * from test where score > :score limit 2'\n",
    "    ,args = {'score':'0.9'})\n",
    "pg.run('select * from test where score > :score limit 2'\n",
    "    ,score = 0.9)"
   ]
  },
  {
   "cell_type": "code",
   "execution_count": 9,
   "id": "72f9fab6",
   "metadata": {},
   "outputs": [
    {
     "name": "stderr",
     "output_type": "stream",
     "text": [
      "2022-01-20 23:57:35,335 [INFO] running:\n",
      "with x as (\n",
      "    select * from test\n",
      ")\n",
      "select * from x limit 1\n",
      "2022-01-20 23:57:35,337 [INFO] done\n"
     ]
    },
    {
     "data": {
      "text/plain": [
       "id                         0\n",
       "score               0.764839\n",
       "amt                      195\n",
       "cat                     test\n",
       "time     2013-03-02 00:00:00\n",
       "Name: 0, dtype: object"
      ]
     },
     "execution_count": 9,
     "metadata": {},
     "output_type": "execute_result"
    }
   ],
   "source": [
    "pg.qry('test').top()"
   ]
  },
  {
   "cell_type": "code",
   "execution_count": 10,
   "id": "dd0c91dc",
   "metadata": {},
   "outputs": [
    {
     "name": "stderr",
     "output_type": "stream",
     "text": [
      "2022-01-20 23:57:35,352 [INFO] running:\n",
      "with x as (\n",
      "    select * from test\n",
      ")\n",
      "select * from x limit 5\n",
      "2022-01-20 23:57:35,354 [INFO] done\n"
     ]
    },
    {
     "data": {
      "text/html": [
       "<div>\n",
       "<style scoped>\n",
       "    .dataframe tbody tr th:only-of-type {\n",
       "        vertical-align: middle;\n",
       "    }\n",
       "\n",
       "    .dataframe tbody tr th {\n",
       "        vertical-align: top;\n",
       "    }\n",
       "\n",
       "    .dataframe thead th {\n",
       "        text-align: right;\n",
       "    }\n",
       "</style>\n",
       "<table border=\"1\" class=\"dataframe\">\n",
       "  <thead>\n",
       "    <tr style=\"text-align: right;\">\n",
       "      <th></th>\n",
       "      <th>id</th>\n",
       "      <th>score</th>\n",
       "      <th>amt</th>\n",
       "      <th>cat</th>\n",
       "      <th>time</th>\n",
       "    </tr>\n",
       "  </thead>\n",
       "  <tbody>\n",
       "    <tr>\n",
       "      <th>0</th>\n",
       "      <td>0</td>\n",
       "      <td>0.764839</td>\n",
       "      <td>195</td>\n",
       "      <td>test</td>\n",
       "      <td>2013-03-02</td>\n",
       "    </tr>\n",
       "    <tr>\n",
       "      <th>1</th>\n",
       "      <td>1</td>\n",
       "      <td>0.897606</td>\n",
       "      <td>618</td>\n",
       "      <td>train</td>\n",
       "      <td>2013-01-02</td>\n",
       "    </tr>\n",
       "    <tr>\n",
       "      <th>2</th>\n",
       "      <td>2</td>\n",
       "      <td>0.853854</td>\n",
       "      <td>609</td>\n",
       "      <td>train</td>\n",
       "      <td>2013-02-02</td>\n",
       "    </tr>\n",
       "    <tr>\n",
       "      <th>3</th>\n",
       "      <td>3</td>\n",
       "      <td>0.747254</td>\n",
       "      <td>320</td>\n",
       "      <td>test</td>\n",
       "      <td>2013-01-02</td>\n",
       "    </tr>\n",
       "    <tr>\n",
       "      <th>4</th>\n",
       "      <td>4</td>\n",
       "      <td>0.195149</td>\n",
       "      <td>698</td>\n",
       "      <td>test</td>\n",
       "      <td>2013-03-02</td>\n",
       "    </tr>\n",
       "  </tbody>\n",
       "</table>\n",
       "</div>"
      ],
      "text/plain": [
       "   id     score  amt    cat       time\n",
       "0   0  0.764839  195   test 2013-03-02\n",
       "1   1  0.897606  618  train 2013-01-02\n",
       "2   2  0.853854  609  train 2013-02-02\n",
       "3   3  0.747254  320   test 2013-01-02\n",
       "4   4  0.195149  698   test 2013-03-02"
      ]
     },
     "execution_count": 10,
     "metadata": {},
     "output_type": "execute_result"
    }
   ],
   "source": [
    "pg.qry('test').head()"
   ]
  },
  {
   "cell_type": "code",
   "execution_count": 11,
   "id": "7ce796fc",
   "metadata": {},
   "outputs": [
    {
     "name": "stderr",
     "output_type": "stream",
     "text": [
      "2022-01-20 23:57:35,382 [INFO] running:\n",
      "with x as (\n",
      "    select * from test\n",
      ")\n",
      "select count(1) from x\n",
      "2022-01-20 23:57:35,385 [INFO] done\n"
     ]
    },
    {
     "data": {
      "text/plain": [
       "10000"
      ]
     },
     "execution_count": 11,
     "metadata": {},
     "output_type": "execute_result"
    }
   ],
   "source": [
    "pg.qry('test').len()"
   ]
  },
  {
   "cell_type": "code",
   "execution_count": 13,
   "id": "c9f9c584",
   "metadata": {},
   "outputs": [
    {
     "name": "stderr",
     "output_type": "stream",
     "text": [
      "2022-01-20 23:58:08,920 [INFO] running:\n",
      "with x as (\n",
      "    select id,score,amt from test\n",
      ")\n",
      "select * from x limit 1\n",
      "2022-01-20 23:58:08,922 [INFO] done\n",
      "2022-01-20 23:58:08,923 [INFO] running:\n",
      "with x as (\n",
      "    select id,score,amt from test\n",
      ")\n",
      "select * from x limit 1\n",
      "2022-01-20 23:58:08,925 [INFO] done\n",
      "2022-01-20 23:58:08,927 [INFO] running:\n",
      "with x as (\n",
      "    select id,score,amt from test\n",
      ")\n",
      "select * from x limit 1\n",
      "2022-01-20 23:58:08,929 [INFO] done\n"
     ]
    },
    {
     "data": {
      "text/plain": [
       "id         0.000000\n",
       "score      0.764839\n",
       "amt      195.000000\n",
       "Name: 0, dtype: float64"
      ]
     },
     "execution_count": 13,
     "metadata": {},
     "output_type": "execute_result"
    }
   ],
   "source": [
    "pg.qry('test').select(\"id,score,amt\").top()\n",
    "pg.qry('test').select([\"id\",\"score\",\"amt\"]).top()\n",
    "pg.qry('test').select(\"id\",\"score\",\"amt\").top()"
   ]
  },
  {
   "cell_type": "code",
   "execution_count": 14,
   "id": "403c3958",
   "metadata": {},
   "outputs": [
    {
     "name": "stderr",
     "output_type": "stream",
     "text": [
      "2022-01-20 23:58:19,200 [INFO] running:\n",
      "with x as (\n",
      "    select x.id,y.id as yid,x.score,z.score as zscore from test x\n",
      "    left join test y\n",
      "        on x.id = y.id+1\n",
      "        and x.id <= y.id+1\n",
      "    left join test z\n",
      "        on x.id = z.id+2\n",
      "        and x.id >= z.id+1\n",
      "    where x.id < 10\n",
      "        and z.id < 10\n",
      ")\n",
      "select * from x limit 5\n",
      "2022-01-20 23:58:19,203 [INFO] done\n"
     ]
    },
    {
     "data": {
      "text/html": [
       "<div>\n",
       "<style scoped>\n",
       "    .dataframe tbody tr th:only-of-type {\n",
       "        vertical-align: middle;\n",
       "    }\n",
       "\n",
       "    .dataframe tbody tr th {\n",
       "        vertical-align: top;\n",
       "    }\n",
       "\n",
       "    .dataframe thead th {\n",
       "        text-align: right;\n",
       "    }\n",
       "</style>\n",
       "<table border=\"1\" class=\"dataframe\">\n",
       "  <thead>\n",
       "    <tr style=\"text-align: right;\">\n",
       "      <th></th>\n",
       "      <th>id</th>\n",
       "      <th>yid</th>\n",
       "      <th>score</th>\n",
       "      <th>zscore</th>\n",
       "    </tr>\n",
       "  </thead>\n",
       "  <tbody>\n",
       "    <tr>\n",
       "      <th>0</th>\n",
       "      <td>2</td>\n",
       "      <td>1</td>\n",
       "      <td>0.853854</td>\n",
       "      <td>0.764839</td>\n",
       "    </tr>\n",
       "    <tr>\n",
       "      <th>1</th>\n",
       "      <td>3</td>\n",
       "      <td>2</td>\n",
       "      <td>0.747254</td>\n",
       "      <td>0.897606</td>\n",
       "    </tr>\n",
       "    <tr>\n",
       "      <th>2</th>\n",
       "      <td>4</td>\n",
       "      <td>3</td>\n",
       "      <td>0.195149</td>\n",
       "      <td>0.853854</td>\n",
       "    </tr>\n",
       "    <tr>\n",
       "      <th>3</th>\n",
       "      <td>5</td>\n",
       "      <td>4</td>\n",
       "      <td>0.204596</td>\n",
       "      <td>0.747254</td>\n",
       "    </tr>\n",
       "    <tr>\n",
       "      <th>4</th>\n",
       "      <td>6</td>\n",
       "      <td>5</td>\n",
       "      <td>0.392279</td>\n",
       "      <td>0.195149</td>\n",
       "    </tr>\n",
       "  </tbody>\n",
       "</table>\n",
       "</div>"
      ],
      "text/plain": [
       "   id  yid     score    zscore\n",
       "0   2    1  0.853854  0.764839\n",
       "1   3    2  0.747254  0.897606\n",
       "2   4    3  0.195149  0.853854\n",
       "3   5    4  0.204596  0.747254\n",
       "4   6    5  0.392279  0.195149"
      ]
     },
     "execution_count": 14,
     "metadata": {},
     "output_type": "execute_result"
    }
   ],
   "source": [
    "(\n",
    "    pg.qry('test x')\n",
    "    .select('x.id','y.id as yid','x.score','z.score as zscore')\n",
    "    .join(\"test y\",\"x.id = y.id+1\",\"x.id <= y.id+1\")\n",
    "    .join(\"test z\",\"x.id = z.id+2\",\"x.id >= z.id+1\")\n",
    "    .where('x.id < 10','z.id < 10')\n",
    "    .head()\n",
    ")"
   ]
  },
  {
   "cell_type": "code",
   "execution_count": 16,
   "id": "97bb2d91",
   "metadata": {},
   "outputs": [
    {
     "name": "stderr",
     "output_type": "stream",
     "text": [
      "2022-01-20 23:59:36,281 [INFO] running:\n",
      "select x.cat,y.cat as bcat,sum(x.score) bscore,sum(y.score) yscore,count(1) n\n",
      "from test x\n",
      "left join test y\n",
      "    on x.id = y.id+1\n",
      "where x.id < 1000\n",
      "group by x.cat,y.cat\n",
      "having count(1) > 50\n",
      "    and sum(y.score) > 100\n",
      "order by cat desc,yscore desc\n",
      "2022-01-20 23:59:36,311 [INFO] done\n"
     ]
    },
    {
     "data": {
      "text/html": [
       "<div>\n",
       "<style scoped>\n",
       "    .dataframe tbody tr th:only-of-type {\n",
       "        vertical-align: middle;\n",
       "    }\n",
       "\n",
       "    .dataframe tbody tr th {\n",
       "        vertical-align: top;\n",
       "    }\n",
       "\n",
       "    .dataframe thead th {\n",
       "        text-align: right;\n",
       "    }\n",
       "</style>\n",
       "<table border=\"1\" class=\"dataframe\">\n",
       "  <thead>\n",
       "    <tr style=\"text-align: right;\">\n",
       "      <th></th>\n",
       "      <th>cat</th>\n",
       "      <th>bcat</th>\n",
       "      <th>bscore</th>\n",
       "      <th>yscore</th>\n",
       "      <th>n</th>\n",
       "    </tr>\n",
       "  </thead>\n",
       "  <tbody>\n",
       "    <tr>\n",
       "      <th>0</th>\n",
       "      <td>train</td>\n",
       "      <td>test</td>\n",
       "      <td>126.746249</td>\n",
       "      <td>123.964186</td>\n",
       "      <td>248</td>\n",
       "    </tr>\n",
       "    <tr>\n",
       "      <th>1</th>\n",
       "      <td>train</td>\n",
       "      <td>train</td>\n",
       "      <td>122.177759</td>\n",
       "      <td>116.216551</td>\n",
       "      <td>245</td>\n",
       "    </tr>\n",
       "    <tr>\n",
       "      <th>2</th>\n",
       "      <td>test</td>\n",
       "      <td>train</td>\n",
       "      <td>130.094694</td>\n",
       "      <td>132.062596</td>\n",
       "      <td>247</td>\n",
       "    </tr>\n",
       "    <tr>\n",
       "      <th>3</th>\n",
       "      <td>test</td>\n",
       "      <td>test</td>\n",
       "      <td>114.607564</td>\n",
       "      <td>121.502911</td>\n",
       "      <td>259</td>\n",
       "    </tr>\n",
       "  </tbody>\n",
       "</table>\n",
       "</div>"
      ],
      "text/plain": [
       "     cat   bcat      bscore      yscore    n\n",
       "0  train   test  126.746249  123.964186  248\n",
       "1  train  train  122.177759  116.216551  245\n",
       "2   test  train  130.094694  132.062596  247\n",
       "3   test   test  114.607564  121.502911  259"
      ]
     },
     "execution_count": 16,
     "metadata": {},
     "output_type": "execute_result"
    }
   ],
   "source": [
    "(\n",
    "    pg.qry('test x')\n",
    "    .select('x.cat,y.cat as bcat'\n",
    "        ,'sum(x.score) bscore','sum(y.score) yscore','count(1) n')\n",
    "    .join(\"test y\",\"x.id = y.id+1\")\n",
    "    .where('x.id < 1000')\n",
    "    .group_by('x.cat,y.cat')\n",
    "    .having('count(1) > 50','sum(y.score) > 100')\n",
    "    .order_by('cat desc','yscore desc')\n",
    "    .run()\n",
    ")"
   ]
  }
 ],
 "metadata": {
  "kernelspec": {
   "display_name": "Python 3 (ipykernel)",
   "language": "python",
   "name": "python3"
  },
  "language_info": {
   "codemirror_mode": {
    "name": "ipython",
    "version": 3
   },
   "file_extension": ".py",
   "mimetype": "text/x-python",
   "name": "python",
   "nbconvert_exporter": "python",
   "pygments_lexer": "ipython3",
   "version": "3.9.6"
  }
 },
 "nbformat": 4,
 "nbformat_minor": 5
}
