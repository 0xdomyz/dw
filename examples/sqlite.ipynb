{
 "cells": [
  {
   "cell_type": "code",
   "execution_count": 1,
   "id": "6ad0780f",
   "metadata": {},
   "outputs": [],
   "source": [
    "import pandas as pd\n",
    "from dw import lt\n",
    "import logging\n",
    "import random\n",
    "logging.basicConfig(\n",
    "    level = logging.INFO\n",
    "    ,format = \"%(asctime)s [%(levelname)s] %(message)s\")"
   ]
  },
  {
   "cell_type": "code",
   "execution_count": 2,
   "id": "e72b2a0d",
   "metadata": {},
   "outputs": [
    {
     "data": {
      "text/html": [
       "<div>\n",
       "<style scoped>\n",
       "    .dataframe tbody tr th:only-of-type {\n",
       "        vertical-align: middle;\n",
       "    }\n",
       "\n",
       "    .dataframe tbody tr th {\n",
       "        vertical-align: top;\n",
       "    }\n",
       "\n",
       "    .dataframe thead th {\n",
       "        text-align: right;\n",
       "    }\n",
       "</style>\n",
       "<table border=\"1\" class=\"dataframe\">\n",
       "  <thead>\n",
       "    <tr style=\"text-align: right;\">\n",
       "      <th></th>\n",
       "      <th>id</th>\n",
       "      <th>score</th>\n",
       "      <th>amt</th>\n",
       "      <th>cat</th>\n",
       "      <th>time</th>\n",
       "    </tr>\n",
       "  </thead>\n",
       "  <tbody>\n",
       "    <tr>\n",
       "      <th>0</th>\n",
       "      <td>0</td>\n",
       "      <td>0.412243</td>\n",
       "      <td>972</td>\n",
       "      <td>train</td>\n",
       "      <td>2013-03-02</td>\n",
       "    </tr>\n",
       "    <tr>\n",
       "      <th>1</th>\n",
       "      <td>1</td>\n",
       "      <td>0.795561</td>\n",
       "      <td>536</td>\n",
       "      <td>train</td>\n",
       "      <td>2013-01-02</td>\n",
       "    </tr>\n",
       "    <tr>\n",
       "      <th>2</th>\n",
       "      <td>2</td>\n",
       "      <td>0.743286</td>\n",
       "      <td>457</td>\n",
       "      <td>test</td>\n",
       "      <td>2013-03-02</td>\n",
       "    </tr>\n",
       "    <tr>\n",
       "      <th>3</th>\n",
       "      <td>3</td>\n",
       "      <td>0.477455</td>\n",
       "      <td>445</td>\n",
       "      <td>train</td>\n",
       "      <td>2013-03-02</td>\n",
       "    </tr>\n",
       "    <tr>\n",
       "      <th>4</th>\n",
       "      <td>4</td>\n",
       "      <td>0.323246</td>\n",
       "      <td>893</td>\n",
       "      <td>train</td>\n",
       "      <td>2013-03-02</td>\n",
       "    </tr>\n",
       "  </tbody>\n",
       "</table>\n",
       "</div>"
      ],
      "text/plain": [
       "   id     score  amt    cat       time\n",
       "0   0  0.412243  972  train 2013-03-02\n",
       "1   1  0.795561  536  train 2013-01-02\n",
       "2   2  0.743286  457   test 2013-03-02\n",
       "3   3  0.477455  445  train 2013-03-02\n",
       "4   4  0.323246  893  train 2013-03-02"
      ]
     },
     "execution_count": 2,
     "metadata": {},
     "output_type": "execute_result"
    }
   ],
   "source": [
    "n = 10000\n",
    "df = pd.DataFrame(\n",
    "    {\n",
    "        \"id\": range(n)\n",
    "        ,\"score\": [random.random() for i in range(n)]\n",
    "        ,\"amt\": [random.choice(range(1000)) for i in range(n)]\n",
    "        ,\"cat\": [random.choice([\"test\", \"train\"]) for i in range(n)]\n",
    "        ,'time': [\n",
    "                random.choice(\n",
    "                    [pd.Timestamp(i) for i in \n",
    "                        [\"20130102\",\"20130202\",\"20130302\"]]\n",
    "                ) \n",
    "                for i in range(n)]\n",
    "    }\n",
    ")\n",
    "df.head()"
   ]
  },
  {
   "cell_type": "code",
   "execution_count": 3,
   "id": "ae692c7d",
   "metadata": {},
   "outputs": [
    {
     "name": "stderr",
     "output_type": "stream",
     "text": [
      "2022-01-23 01:08:13,174 [INFO] running:\n",
      "drop table test\n",
      "2022-01-23 01:08:13,179 [INFO] running:\n",
      "create table test(\n",
      "    id integer\n",
      "    ,score real\n",
      "    ,amt integer\n",
      "    ,cat text\n",
      "    ,time text\n",
      "    ,constraint df_pk primary key (id)\n",
      ")\n",
      "2022-01-23 01:08:13,180 [INFO] done\n",
      "2022-01-23 01:08:13,293 [INFO] running:\n",
      "insert into test (id,score,amt,cat,time) values (:id,:score,:amt,:cat,:time)\n",
      "2022-01-23 01:08:13,294 [INFO] len(args) = 10000\n",
      "2022-01-23 01:08:13,387 [INFO] done\n"
     ]
    }
   ],
   "source": [
    "lt.drop('test')\n",
    "lt.create(\n",
    "        tbl_nme = 'test'\n",
    "        ,dtypes = {\n",
    "            'id':'integer'\n",
    "            ,'score':'real'\n",
    "            ,'amt':'integer'\n",
    "            ,'cat':'text'\n",
    "            ,'time':'text'\n",
    "            ,'constraint df_pk':\n",
    "                'primary key (id)'\n",
    "        }\n",
    "    )\n",
    "lt.write(df,'test')"
   ]
  },
  {
   "cell_type": "code",
   "execution_count": 4,
   "id": "37302e69",
   "metadata": {},
   "outputs": [
    {
     "name": "stderr",
     "output_type": "stream",
     "text": [
      "2022-01-23 01:08:13,407 [INFO] running:\n",
      "with x as (\n",
      "    select * from test\n",
      "    where score > 0.5\n",
      ")\n",
      "select \n",
      "    time,cat\n",
      "    ,count(1) n\n",
      "    ,avg(score) avgscore, round(sum(amt)/1e3,2) total\n",
      "from x\n",
      "group by time,cat\n",
      "order by n desc\n",
      "2022-01-23 01:08:13,413 [INFO] done\n"
     ]
    },
    {
     "data": {
      "text/html": [
       "<div>\n",
       "<style scoped>\n",
       "    .dataframe tbody tr th:only-of-type {\n",
       "        vertical-align: middle;\n",
       "    }\n",
       "\n",
       "    .dataframe tbody tr th {\n",
       "        vertical-align: top;\n",
       "    }\n",
       "\n",
       "    .dataframe thead tr th {\n",
       "        text-align: left;\n",
       "    }\n",
       "\n",
       "    .dataframe thead tr:last-of-type th {\n",
       "        text-align: right;\n",
       "    }\n",
       "</style>\n",
       "<table border=\"1\" class=\"dataframe\">\n",
       "  <thead>\n",
       "    <tr>\n",
       "      <th></th>\n",
       "      <th colspan=\"2\" halign=\"left\">n</th>\n",
       "      <th colspan=\"2\" halign=\"left\">avgscore</th>\n",
       "      <th colspan=\"2\" halign=\"left\">total</th>\n",
       "    </tr>\n",
       "    <tr>\n",
       "      <th>cat</th>\n",
       "      <th>test</th>\n",
       "      <th>train</th>\n",
       "      <th>test</th>\n",
       "      <th>train</th>\n",
       "      <th>test</th>\n",
       "      <th>train</th>\n",
       "    </tr>\n",
       "    <tr>\n",
       "      <th>time</th>\n",
       "      <th></th>\n",
       "      <th></th>\n",
       "      <th></th>\n",
       "      <th></th>\n",
       "      <th></th>\n",
       "      <th></th>\n",
       "    </tr>\n",
       "  </thead>\n",
       "  <tbody>\n",
       "    <tr>\n",
       "      <th>2013-01-02</th>\n",
       "      <td>816.0</td>\n",
       "      <td>847.0</td>\n",
       "      <td>0.746747</td>\n",
       "      <td>0.750452</td>\n",
       "      <td>398.34</td>\n",
       "      <td>417.31</td>\n",
       "    </tr>\n",
       "    <tr>\n",
       "      <th>2013-02-02</th>\n",
       "      <td>837.0</td>\n",
       "      <td>858.0</td>\n",
       "      <td>0.748214</td>\n",
       "      <td>0.743094</td>\n",
       "      <td>419.11</td>\n",
       "      <td>447.04</td>\n",
       "    </tr>\n",
       "    <tr>\n",
       "      <th>2013-03-02</th>\n",
       "      <td>805.0</td>\n",
       "      <td>860.0</td>\n",
       "      <td>0.756775</td>\n",
       "      <td>0.739017</td>\n",
       "      <td>394.89</td>\n",
       "      <td>422.35</td>\n",
       "    </tr>\n",
       "  </tbody>\n",
       "</table>\n",
       "</div>"
      ],
      "text/plain": [
       "                n         avgscore             total        \n",
       "cat          test  train      test     train    test   train\n",
       "time                                                        \n",
       "2013-01-02  816.0  847.0  0.746747  0.750452  398.34  417.31\n",
       "2013-02-02  837.0  858.0  0.748214  0.743094  419.11  447.04\n",
       "2013-03-02  805.0  860.0  0.756775  0.739017  394.89  422.35"
      ]
     },
     "execution_count": 4,
     "metadata": {},
     "output_type": "execute_result"
    }
   ],
   "source": [
    "lt.qry('test').where(\"score > 0.5\") \\\n",
    ".valc('time,cat',\"avg(score) avgscore, round(sum(amt)/1e3,2) total\") \\\n",
    ".pivot('time','cat',['n','avgscore','total'])"
   ]
  },
  {
   "cell_type": "code",
   "execution_count": 5,
   "id": "df80bc40",
   "metadata": {},
   "outputs": [
    {
     "name": "stderr",
     "output_type": "stream",
     "text": [
      "2022-01-23 01:08:13,437 [INFO] running:\n",
      "select * from test limit 2\n",
      "2022-01-23 01:08:13,439 [INFO] done\n",
      "2022-01-23 01:08:13,442 [INFO] running:\n",
      "select * from test where score > :score limit 2\n",
      "2022-01-23 01:08:13,443 [INFO] len(args) = 1\n",
      "2022-01-23 01:08:13,444 [INFO] done\n",
      "2022-01-23 01:08:13,446 [INFO] running:\n",
      "select * from test where score > 0.9 limit 2\n",
      "2022-01-23 01:08:13,448 [INFO] done\n"
     ]
    },
    {
     "data": {
      "text/html": [
       "<div>\n",
       "<style scoped>\n",
       "    .dataframe tbody tr th:only-of-type {\n",
       "        vertical-align: middle;\n",
       "    }\n",
       "\n",
       "    .dataframe tbody tr th {\n",
       "        vertical-align: top;\n",
       "    }\n",
       "\n",
       "    .dataframe thead th {\n",
       "        text-align: right;\n",
       "    }\n",
       "</style>\n",
       "<table border=\"1\" class=\"dataframe\">\n",
       "  <thead>\n",
       "    <tr style=\"text-align: right;\">\n",
       "      <th></th>\n",
       "      <th>id</th>\n",
       "      <th>score</th>\n",
       "      <th>amt</th>\n",
       "      <th>cat</th>\n",
       "      <th>time</th>\n",
       "    </tr>\n",
       "  </thead>\n",
       "  <tbody>\n",
       "    <tr>\n",
       "      <th>0</th>\n",
       "      <td>12</td>\n",
       "      <td>0.938176</td>\n",
       "      <td>499</td>\n",
       "      <td>train</td>\n",
       "      <td>2013-03-02</td>\n",
       "    </tr>\n",
       "    <tr>\n",
       "      <th>1</th>\n",
       "      <td>22</td>\n",
       "      <td>0.996893</td>\n",
       "      <td>641</td>\n",
       "      <td>train</td>\n",
       "      <td>2013-03-02</td>\n",
       "    </tr>\n",
       "  </tbody>\n",
       "</table>\n",
       "</div>"
      ],
      "text/plain": [
       "   id     score  amt    cat        time\n",
       "0  12  0.938176  499  train  2013-03-02\n",
       "1  22  0.996893  641  train  2013-03-02"
      ]
     },
     "execution_count": 5,
     "metadata": {},
     "output_type": "execute_result"
    }
   ],
   "source": [
    "lt.run('select * from test limit 2')\n",
    "lt.run('select * from test where score > :score limit 2'\n",
    "    ,args = {'score':'0.9'})\n",
    "lt.run('select * from test where score > :score limit 2'\n",
    "    ,score = 0.9)"
   ]
  },
  {
   "cell_type": "code",
   "execution_count": 6,
   "id": "72f9fab6",
   "metadata": {},
   "outputs": [
    {
     "name": "stderr",
     "output_type": "stream",
     "text": [
      "2022-01-23 01:08:13,469 [INFO] running:\n",
      "with x as (\n",
      "    select * from test\n",
      ")\n",
      "select * from x limit 1\n",
      "2022-01-23 01:08:13,471 [INFO] done\n"
     ]
    },
    {
     "data": {
      "text/plain": [
       "id                0\n",
       "score      0.412243\n",
       "amt             972\n",
       "cat           train\n",
       "time     2013-03-02\n",
       "Name: 0, dtype: object"
      ]
     },
     "execution_count": 6,
     "metadata": {},
     "output_type": "execute_result"
    }
   ],
   "source": [
    "lt.qry('test').top()"
   ]
  },
  {
   "cell_type": "code",
   "execution_count": 7,
   "id": "dd0c91dc",
   "metadata": {},
   "outputs": [
    {
     "name": "stderr",
     "output_type": "stream",
     "text": [
      "2022-01-23 01:08:13,486 [INFO] running:\n",
      "with x as (\n",
      "    select * from test\n",
      ")\n",
      "select * from x limit 5\n",
      "2022-01-23 01:08:13,487 [INFO] done\n"
     ]
    },
    {
     "data": {
      "text/html": [
       "<div>\n",
       "<style scoped>\n",
       "    .dataframe tbody tr th:only-of-type {\n",
       "        vertical-align: middle;\n",
       "    }\n",
       "\n",
       "    .dataframe tbody tr th {\n",
       "        vertical-align: top;\n",
       "    }\n",
       "\n",
       "    .dataframe thead th {\n",
       "        text-align: right;\n",
       "    }\n",
       "</style>\n",
       "<table border=\"1\" class=\"dataframe\">\n",
       "  <thead>\n",
       "    <tr style=\"text-align: right;\">\n",
       "      <th></th>\n",
       "      <th>id</th>\n",
       "      <th>score</th>\n",
       "      <th>amt</th>\n",
       "      <th>cat</th>\n",
       "      <th>time</th>\n",
       "    </tr>\n",
       "  </thead>\n",
       "  <tbody>\n",
       "    <tr>\n",
       "      <th>0</th>\n",
       "      <td>0</td>\n",
       "      <td>0.412243</td>\n",
       "      <td>972</td>\n",
       "      <td>train</td>\n",
       "      <td>2013-03-02</td>\n",
       "    </tr>\n",
       "    <tr>\n",
       "      <th>1</th>\n",
       "      <td>1</td>\n",
       "      <td>0.795561</td>\n",
       "      <td>536</td>\n",
       "      <td>train</td>\n",
       "      <td>2013-01-02</td>\n",
       "    </tr>\n",
       "    <tr>\n",
       "      <th>2</th>\n",
       "      <td>2</td>\n",
       "      <td>0.743286</td>\n",
       "      <td>457</td>\n",
       "      <td>test</td>\n",
       "      <td>2013-03-02</td>\n",
       "    </tr>\n",
       "    <tr>\n",
       "      <th>3</th>\n",
       "      <td>3</td>\n",
       "      <td>0.477455</td>\n",
       "      <td>445</td>\n",
       "      <td>train</td>\n",
       "      <td>2013-03-02</td>\n",
       "    </tr>\n",
       "    <tr>\n",
       "      <th>4</th>\n",
       "      <td>4</td>\n",
       "      <td>0.323246</td>\n",
       "      <td>893</td>\n",
       "      <td>train</td>\n",
       "      <td>2013-03-02</td>\n",
       "    </tr>\n",
       "  </tbody>\n",
       "</table>\n",
       "</div>"
      ],
      "text/plain": [
       "   id     score  amt    cat        time\n",
       "0   0  0.412243  972  train  2013-03-02\n",
       "1   1  0.795561  536  train  2013-01-02\n",
       "2   2  0.743286  457   test  2013-03-02\n",
       "3   3  0.477455  445  train  2013-03-02\n",
       "4   4  0.323246  893  train  2013-03-02"
      ]
     },
     "execution_count": 7,
     "metadata": {},
     "output_type": "execute_result"
    }
   ],
   "source": [
    "lt.qry('test').head()"
   ]
  },
  {
   "cell_type": "code",
   "execution_count": 8,
   "id": "7ce796fc",
   "metadata": {},
   "outputs": [
    {
     "name": "stderr",
     "output_type": "stream",
     "text": [
      "2022-01-23 01:08:13,501 [INFO] running:\n",
      "with x as (\n",
      "    select * from test\n",
      ")\n",
      "select count(1) from x\n",
      "2022-01-23 01:08:13,503 [INFO] done\n"
     ]
    },
    {
     "data": {
      "text/plain": [
       "10000"
      ]
     },
     "execution_count": 8,
     "metadata": {},
     "output_type": "execute_result"
    }
   ],
   "source": [
    "lt.qry('test').len()"
   ]
  },
  {
   "cell_type": "code",
   "execution_count": 9,
   "id": "c9f9c584",
   "metadata": {},
   "outputs": [
    {
     "name": "stderr",
     "output_type": "stream",
     "text": [
      "2022-01-23 01:08:13,518 [INFO] running:\n",
      "with x as (\n",
      "    select id,score,amt\n",
      "    from test\n",
      ")\n",
      "select * from x limit 1\n",
      "2022-01-23 01:08:13,520 [INFO] done\n",
      "2022-01-23 01:08:13,522 [INFO] running:\n",
      "with x as (\n",
      "    select id,score,amt\n",
      "    from test\n",
      ")\n",
      "select * from x limit 1\n",
      "2022-01-23 01:08:13,523 [INFO] done\n",
      "2022-01-23 01:08:13,526 [INFO] running:\n",
      "with x as (\n",
      "    select id,score,amt\n",
      "    from test\n",
      ")\n",
      "select * from x limit 1\n",
      "2022-01-23 01:08:13,527 [INFO] done\n"
     ]
    },
    {
     "data": {
      "text/plain": [
       "id         0.000000\n",
       "score      0.412243\n",
       "amt      972.000000\n",
       "Name: 0, dtype: float64"
      ]
     },
     "execution_count": 9,
     "metadata": {},
     "output_type": "execute_result"
    }
   ],
   "source": [
    "lt.qry('test').select(\"id,score,amt\").top()\n",
    "lt.qry('test').select([\"id\",\"score\",\"amt\"]).top()\n",
    "lt.qry('test').select(\"id\",\"score\",\"amt\").top()"
   ]
  },
  {
   "cell_type": "code",
   "execution_count": 10,
   "id": "403c3958",
   "metadata": {},
   "outputs": [
    {
     "name": "stderr",
     "output_type": "stream",
     "text": [
      "2022-01-23 01:08:13,548 [INFO] running:\n",
      "with x as (\n",
      "    select x.id,y.id as yid,x.score,z.score as zscore\n",
      "    from test x\n",
      "    left join test y\n",
      "        on x.id = y.id+1\n",
      "        and x.id <= y.id+1\n",
      "    left join test z\n",
      "        on x.id = z.id+2\n",
      "        and x.id >= z.id+1\n",
      "    where x.id < 10\n",
      "        and z.id < 10\n",
      ")\n",
      "select * from x limit 5\n",
      "2022-01-23 01:08:13,550 [INFO] done\n"
     ]
    },
    {
     "data": {
      "text/html": [
       "<div>\n",
       "<style scoped>\n",
       "    .dataframe tbody tr th:only-of-type {\n",
       "        vertical-align: middle;\n",
       "    }\n",
       "\n",
       "    .dataframe tbody tr th {\n",
       "        vertical-align: top;\n",
       "    }\n",
       "\n",
       "    .dataframe thead th {\n",
       "        text-align: right;\n",
       "    }\n",
       "</style>\n",
       "<table border=\"1\" class=\"dataframe\">\n",
       "  <thead>\n",
       "    <tr style=\"text-align: right;\">\n",
       "      <th></th>\n",
       "      <th>id</th>\n",
       "      <th>yid</th>\n",
       "      <th>score</th>\n",
       "      <th>zscore</th>\n",
       "    </tr>\n",
       "  </thead>\n",
       "  <tbody>\n",
       "    <tr>\n",
       "      <th>0</th>\n",
       "      <td>2</td>\n",
       "      <td>1</td>\n",
       "      <td>0.743286</td>\n",
       "      <td>0.412243</td>\n",
       "    </tr>\n",
       "    <tr>\n",
       "      <th>1</th>\n",
       "      <td>3</td>\n",
       "      <td>2</td>\n",
       "      <td>0.477455</td>\n",
       "      <td>0.795561</td>\n",
       "    </tr>\n",
       "    <tr>\n",
       "      <th>2</th>\n",
       "      <td>4</td>\n",
       "      <td>3</td>\n",
       "      <td>0.323246</td>\n",
       "      <td>0.743286</td>\n",
       "    </tr>\n",
       "    <tr>\n",
       "      <th>3</th>\n",
       "      <td>5</td>\n",
       "      <td>4</td>\n",
       "      <td>0.803028</td>\n",
       "      <td>0.477455</td>\n",
       "    </tr>\n",
       "    <tr>\n",
       "      <th>4</th>\n",
       "      <td>6</td>\n",
       "      <td>5</td>\n",
       "      <td>0.364130</td>\n",
       "      <td>0.323246</td>\n",
       "    </tr>\n",
       "  </tbody>\n",
       "</table>\n",
       "</div>"
      ],
      "text/plain": [
       "   id  yid     score    zscore\n",
       "0   2    1  0.743286  0.412243\n",
       "1   3    2  0.477455  0.795561\n",
       "2   4    3  0.323246  0.743286\n",
       "3   5    4  0.803028  0.477455\n",
       "4   6    5  0.364130  0.323246"
      ]
     },
     "execution_count": 10,
     "metadata": {},
     "output_type": "execute_result"
    }
   ],
   "source": [
    "(\n",
    "    lt.qry('test x')\n",
    "    .select('x.id','y.id as yid','x.score','z.score as zscore')\n",
    "    .join(\"test y\",\"x.id = y.id+1\",\"x.id <= y.id+1\")\n",
    "    .join(\"test z\",\"x.id = z.id+2\",\"x.id >= z.id+1\")\n",
    "    .where('x.id < 10','z.id < 10')\n",
    "    .head()\n",
    ")"
   ]
  },
  {
   "cell_type": "code",
   "execution_count": 11,
   "id": "97bb2d91",
   "metadata": {
    "scrolled": false
   },
   "outputs": [
    {
     "name": "stderr",
     "output_type": "stream",
     "text": [
      "2022-01-23 01:08:13,564 [INFO] running:\n",
      "select x.cat,y.cat as bcat,sum(x.score) bscore,sum(y.score) yscore,count(1) n\n",
      "from test x\n",
      "left join test y\n",
      "    on x.id = y.id+1\n",
      "where x.id < 1000\n",
      "group by x.cat,y.cat\n",
      "having count(1) > 50\n",
      "    and sum(y.score) > 100\n",
      "order by x.cat desc,sum(y.score) desc\n",
      "2022-01-23 01:08:13,974 [INFO] done\n"
     ]
    },
    {
     "data": {
      "text/html": [
       "<div>\n",
       "<style scoped>\n",
       "    .dataframe tbody tr th:only-of-type {\n",
       "        vertical-align: middle;\n",
       "    }\n",
       "\n",
       "    .dataframe tbody tr th {\n",
       "        vertical-align: top;\n",
       "    }\n",
       "\n",
       "    .dataframe thead th {\n",
       "        text-align: right;\n",
       "    }\n",
       "</style>\n",
       "<table border=\"1\" class=\"dataframe\">\n",
       "  <thead>\n",
       "    <tr style=\"text-align: right;\">\n",
       "      <th></th>\n",
       "      <th>cat</th>\n",
       "      <th>bcat</th>\n",
       "      <th>bscore</th>\n",
       "      <th>yscore</th>\n",
       "      <th>n</th>\n",
       "    </tr>\n",
       "  </thead>\n",
       "  <tbody>\n",
       "    <tr>\n",
       "      <th>0</th>\n",
       "      <td>train</td>\n",
       "      <td>train</td>\n",
       "      <td>136.793593</td>\n",
       "      <td>133.806966</td>\n",
       "      <td>265</td>\n",
       "    </tr>\n",
       "    <tr>\n",
       "      <th>1</th>\n",
       "      <td>train</td>\n",
       "      <td>test</td>\n",
       "      <td>125.064553</td>\n",
       "      <td>125.036549</td>\n",
       "      <td>245</td>\n",
       "    </tr>\n",
       "    <tr>\n",
       "      <th>2</th>\n",
       "      <td>test</td>\n",
       "      <td>train</td>\n",
       "      <td>128.581954</td>\n",
       "      <td>128.463423</td>\n",
       "      <td>246</td>\n",
       "    </tr>\n",
       "    <tr>\n",
       "      <th>3</th>\n",
       "      <td>test</td>\n",
       "      <td>test</td>\n",
       "      <td>121.019161</td>\n",
       "      <td>124.122500</td>\n",
       "      <td>243</td>\n",
       "    </tr>\n",
       "  </tbody>\n",
       "</table>\n",
       "</div>"
      ],
      "text/plain": [
       "     cat   bcat      bscore      yscore    n\n",
       "0  train  train  136.793593  133.806966  265\n",
       "1  train   test  125.064553  125.036549  245\n",
       "2   test  train  128.581954  128.463423  246\n",
       "3   test   test  121.019161  124.122500  243"
      ]
     },
     "execution_count": 11,
     "metadata": {},
     "output_type": "execute_result"
    }
   ],
   "source": [
    "(\n",
    "    lt.qry('test x')\n",
    "    .select('x.cat,y.cat as bcat'\n",
    "        ,'sum(x.score) bscore','sum(y.score) yscore','count(1) n')\n",
    "    .join(\"test y\",\"x.id = y.id+1\")\n",
    "    .where('x.id < 1000')\n",
    "    .group_by('x.cat,y.cat')\n",
    "    .having('count(1) > 50','sum(y.score) > 100')\n",
    "    .order_by('x.cat desc','sum(y.score) desc')\n",
    "    .run()\n",
    ")"
   ]
  }
 ],
 "metadata": {
  "kernelspec": {
   "display_name": "Python 3 (ipykernel)",
   "language": "python",
   "name": "python3"
  },
  "language_info": {
   "codemirror_mode": {
    "name": "ipython",
    "version": 3
   },
   "file_extension": ".py",
   "mimetype": "text/x-python",
   "name": "python",
   "nbconvert_exporter": "python",
   "pygments_lexer": "ipython3",
   "version": "3.9.6"
  }
 },
 "nbformat": 4,
 "nbformat_minor": 5
}
